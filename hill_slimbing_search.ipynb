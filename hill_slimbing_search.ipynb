{
  "nbformat": 4,
  "nbformat_minor": 0,
  "metadata": {
    "colab": {
      "provenance": [],
      "authorship_tag": "ABX9TyN5E0TuUmRGzs0+IdjOQG1g",
      "include_colab_link": true
    },
    "kernelspec": {
      "name": "python3",
      "display_name": "Python 3"
    },
    "language_info": {
      "name": "python"
    }
  },
  "cells": [
    {
      "cell_type": "markdown",
      "metadata": {
        "id": "view-in-github",
        "colab_type": "text"
      },
      "source": [
        "<a href=\"https://colab.research.google.com/github/FahadQasim283/AI/blob/main/hill_slimbing_search.ipynb\" target=\"_parent\"><img src=\"https://colab.research.google.com/assets/colab-badge.svg\" alt=\"Open In Colab\"/></a>"
      ]
    },
    {
      "cell_type": "code",
      "execution_count": null,
      "metadata": {
        "colab": {
          "base_uri": "https://localhost:8080/",
          "height": 545
        },
        "id": "3V3kvCUxuiIu",
        "outputId": "b2fb24ab-8efd-4bdd-aa6d-9381f9108288"
      },
      "outputs": [
        {
          "output_type": "display_data",
          "data": {
            "text/plain": [
              "<Figure size 600x600 with 1 Axes>"
            ],
            "image/png": "[encoded data removed]"
          },
          "metadata": {}
        }
      ],
      "source": [
        "import numpy as np\n",
        "import matplotlib.pyplot as plt\n",
        "\n",
        "# Define the grid\n",
        "grid = np.array([\n",
        "    ['A', ' ', 'B', 'C', 'D', 'E'],\n",
        "    ['F', ' ', 'G', ' ', ' ', ' '],\n",
        "    ['H', 'I', 'J', ' ', 'K', 'L'],\n",
        "    ['M', 'N', ' ', 'O', 'P', 'Q'],\n",
        "    ['R', 'S', 'T', 'U', ' ', 'V'],\n",
        "    [' ', ' ', 'W', ' ', 'X', 'Y']\n",
        "])\n",
        "\n",
        "# Define start and goal positions\n",
        "start = (0, 0)  # Position of 'A'\n",
        "goal = (5, 5)   # Position of 'Y'\n",
        "\n",
        "def manhattan_distance(a, b):\n",
        "    \"\"\"Calculate Manhattan distance between two points.\"\"\"\n",
        "    return abs(a[0] - b[0]) + abs(a[1] - b[1])\n",
        "\n",
        "def get_neighbors(position):\n",
        "    \"\"\"Return valid neighbors that are not blocked.\"\"\"\n",
        "    x, y = position\n",
        "    moves = [(0, 1), (1, 0), (-1, 0), (0, -1)]  # Right, Down, Up, Left\n",
        "    neighbors = []\n",
        "\n",
        "    for dx, dy in moves:\n",
        "        nx, ny = x + dx, y + dy\n",
        "        if 0 <= nx < 6 and 0 <= ny < 6 and grid[nx][ny] != ' ':\n",
        "            neighbors.append((nx, ny))\n",
        "\n",
        "    return neighbors\n",
        "\n",
        "def hill_climbing(start, goal):\n",
        "    \"\"\"Perform hill climbing from start to goal.\"\"\"\n",
        "    current = start\n",
        "    path = [current]\n",
        "\n",
        "    while current != goal:\n",
        "        neighbors = get_neighbors(current)\n",
        "\n",
        "        # Select the best neighbor based on Manhattan distance\n",
        "        best_move = min(neighbors, key=lambda pos: manhattan_distance(pos, goal), default=None)\n",
        "\n",
        "        if best_move and manhattan_distance(best_move, goal) < manhattan_distance(current, goal):\n",
        "            current = best_move\n",
        "            path.append(current)\n",
        "        else:\n",
        "            break  # Stop if no improvement\n",
        "\n",
        "    return path\n",
        "\n",
        "# Run the hill climbing algorithm\n",
        "path = hill_climbing(start, goal)\n",
        "\n",
        "# Plot the path\n",
        "def plot_path(path):\n",
        "    fig, ax = plt.subplots(figsize=(6,6))\n",
        "    ax.set_xticks(range(6))\n",
        "    ax.set_yticks(range(6))\n",
        "    ax.set_xticklabels(range(6))\n",
        "    ax.set_yticklabels(range(6))\n",
        "    ax.grid(True)\n",
        "\n",
        "    for step in path:\n",
        "        ax.text(step[1], step[0], grid[step[0]][step[1]], ha='center', va='center', fontsize=12, color='red')\n",
        "\n",
        "    # Plot the start and goal\n",
        "    ax.scatter(start[1], start[0], color='green', s=100, label='Start (A)')\n",
        "    ax.scatter(goal[1], goal[0], color='blue', s=100, label='Goal (Y)')\n",
        "\n",
        "    # Plot the path\n",
        "    x_vals = [pos[1] for pos in path]\n",
        "    y_vals = [pos[0] for pos in path]\n",
        "    ax.plot(x_vals, y_vals, color='red', linewidth=2, marker='o')\n",
        "\n",
        "    plt.legend()\n",
        "    plt.title(\"Hill Climbing Path from A to Y\")\n",
        "    plt.show()\n",
        "\n",
        "# Show the graph\n",
        "plot_path(path)\n"
      ]
    },
    {
      "cell_type": "code",
      "source": [],
      "metadata": {
        "id": "i9yp9aFK0bqY"
      },
      "execution_count": null,
      "outputs": []
    }
  ]
}